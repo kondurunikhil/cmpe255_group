{
 "cells": [
  {
   "cell_type": "markdown",
   "id": "H0kk8CxBAOpo",
   "metadata": {
    "id": "H0kk8CxBAOpo"
   },
   "source": [
    "**SVM**"
   ]
  },
  {
   "cell_type": "code",
   "execution_count": 75,
   "id": "2513a27d",
   "metadata": {
    "colab": {
     "base_uri": "https://localhost:8080/"
    },
    "id": "2513a27d",
    "outputId": "b92e658c-a211-49aa-acd3-76c1fec6f4d7"
   },
   "outputs": [
    {
     "data": {
      "text/plain": [
       "SVC(probability=True)"
      ]
     },
     "execution_count": 75,
     "metadata": {},
     "output_type": "execute_result"
    }
   ],
   "source": [
    "SVM = SVC(probability=True)\n",
    "SVM.fit(X_train, y_train)"
   ]
  },
  {
   "cell_type": "code",
   "execution_count": 50,
   "id": "eM7rRcDsKdRm",
   "metadata": {
    "colab": {
     "base_uri": "https://localhost:8080/"
    },
    "id": "eM7rRcDsKdRm",
    "outputId": "b8353267-a008-42d2-fbac-91b5658c05b4"
   },
   "outputs": [
    {
     "data": {
      "text/plain": [
       "array([0.96911197, 0.97039897, 0.97297297, 0.95624196, 0.97554698])"
      ]
     },
     "execution_count": 50,
     "metadata": {},
     "output_type": "execute_result"
    }
   ],
   "source": [
    "SVM_score = cross_val_score(SVM, X_train,y_train,scoring=\"accuracy\", cv=5)\n",
    "SVM_score"
   ]
  },
  {
   "cell_type": "code",
   "execution_count": 51,
   "id": "5ae6897c",
   "metadata": {
    "colab": {
     "base_uri": "https://localhost:8080/"
    },
    "id": "5ae6897c",
    "outputId": "e50ffe7c-0ed0-4883-9c8d-fcd4c4b07a76"
   },
   "outputs": [
    {
     "data": {
      "text/plain": [
       "0.9688545688545688"
      ]
     },
     "execution_count": 51,
     "metadata": {},
     "output_type": "execute_result"
    }
   ],
   "source": [
    "SVM_score.mean()"
   ]
  },
  {
   "cell_type": "code",
   "execution_count": 52,
   "id": "8d4d6718",
   "metadata": {
    "colab": {
     "base_uri": "https://localhost:8080/"
    },
    "id": "8d4d6718",
    "outputId": "289d9308-68e7-45ab-8007-89bef29b36ff"
   },
   "outputs": [
    {
     "data": {
      "text/plain": [
       "0.9947643979057592"
      ]
     },
     "execution_count": 52,
     "metadata": {},
     "output_type": "execute_result"
    }
   ],
   "source": [
    "SVM_pred_train = SVM.predict(X_train)\n",
    "SVM_pred_test = SVM.predict(X_test)\n",
    "SVM_pred = metrics.precision_score(y_test, SVM_pred_test)\n",
    "SVM_pred"
   ]
  },
  {
   "cell_type": "code",
   "execution_count": 53,
   "id": "ec1d159e",
   "metadata": {
    "colab": {
     "base_uri": "https://localhost:8080/"
    },
    "id": "ec1d159e",
    "outputId": "f5c3bd43-23c8-4824-fa58-f97d7a07f06d"
   },
   "outputs": [
    {
     "data": {
      "text/plain": [
       "0.8154506437768241"
      ]
     },
     "execution_count": 53,
     "metadata": {},
     "output_type": "execute_result"
    }
   ],
   "source": [
    "SVM_recal = metrics.recall_score(y_test, SVM_pred_test)\n",
    "SVM_recal"
   ]
  },
  {
   "cell_type": "code",
   "execution_count": 54,
   "id": "e248dae8",
   "metadata": {
    "colab": {
     "base_uri": "https://localhost:8080/"
    },
    "id": "e248dae8",
    "outputId": "2490d20c-afe7-4531-d84b-c04e24bb0689"
   },
   "outputs": [
    {
     "data": {
      "text/plain": [
       "0.8962264150943396"
      ]
     },
     "execution_count": 54,
     "metadata": {},
     "output_type": "execute_result"
    }
   ],
   "source": [
    "SVM_f1_s = metrics.f1_score(y_test, SVM_pred_test)\n",
    "SVM_f1_s"
   ]
  },
  {
   "cell_type": "code",
   "execution_count": 55,
   "id": "5a57aec9",
   "metadata": {
    "colab": {
     "base_uri": "https://localhost:8080/"
    },
    "id": "5a57aec9",
    "outputId": "506662de-f88a-4cf8-8daf-aa575a804fac"
   },
   "outputs": [
    {
     "data": {
      "text/plain": [
       "0.9979407979407979"
      ]
     },
     "execution_count": 55,
     "metadata": {},
     "output_type": "execute_result"
    }
   ],
   "source": [
    "SVM_train_accuracy = SVM.score(X_train,y_train)\n",
    "SVM_train_accuracy"
   ]
  },
  {
   "cell_type": "code",
   "execution_count": 56,
   "id": "2b2e5e3d",
   "metadata": {
    "colab": {
     "base_uri": "https://localhost:8080/"
    },
    "id": "2b2e5e3d",
    "outputId": "8fbc02ff-ab35-4748-9ce1-f391d48fa467"
   },
   "outputs": [
    {
     "data": {
      "text/plain": [
       "0.9735735735735735"
      ]
     },
     "execution_count": 56,
     "metadata": {},
     "output_type": "execute_result"
    }
   ],
   "source": [
    "SVM_test_accuracy = SVM.score(X_test,y_test)\n",
    "SVM_test_accuracy"
   ]
  },
  {
   "cell_type": "code",
   "execution_count": 57,
   "id": "pnuF0pnqOg0h",
   "metadata": {
    "id": "pnuF0pnqOg0h"
   },
   "outputs": [],
   "source": [
    "precision.append(SVM_pred)\n",
    "recall.append(SVM_recal)\n",
    "f1_score.append(SVM_f1_s)\n",
    "trainset_accuracy.append(SVM_train_accuracy)\n",
    "testset_accuracy.append(SVM_test_accuracy)"
   ]
  }
 ],
 "metadata": {
  "colab": {
   "collapsed_sections": [],
   "name": "SVM_Updated_Hashmitha_Katta.ipynb",
   "provenance": []
  },
  "kernelspec": {
   "display_name": "Python 3 (ipykernel)",
   "language": "python",
   "name": "python3"
  },
  "language_info": {
   "codemirror_mode": {
    "name": "ipython",
    "version": 3
   },
   "file_extension": ".py",
   "mimetype": "text/x-python",
   "name": "python",
   "nbconvert_exporter": "python",
   "pygments_lexer": "ipython3",
   "version": "3.9.7"
  }
 },
 "nbformat": 4,
 "nbformat_minor": 5
}
