{
 "cells": [
  {
   "cell_type": "markdown",
   "id": "2402398e",
   "metadata": {},
   "source": [
    "# Model Building"
   ]
  },
  {
   "cell_type": "code",
   "execution_count": 41,
   "id": "a6f6240e",
   "metadata": {},
   "outputs": [],
   "source": [
    "from sklearn.model_selection import train_test_split\n",
    "from sklearn.naive_bayes import MultinomialNB\n",
    "from sklearn.ensemble import RandomForestClassifier\n",
    "from sklearn.neighbors import KNeighborsClassifier\n",
    "from sklearn.svm import SVC\n",
    "from sklearn.model_selection import cross_val_score\n",
    "from sklearn import metrics\n",
    "from sklearn.metrics import precision_score, recall_score, plot_confusion_matrix, classification_report, accuracy_score, f1_score"
   ]
  },
  {
   "cell_type": "code",
   "execution_count": 42,
   "id": "c5de4370",
   "metadata": {},
   "outputs": [],
   "source": [
    "# Splitting the testing and training datasets\n",
    "y = data[\"Class\"] \n",
    "X_train, X_test, y_train, y_test = train_test_split(X, y, test_size=0.3, random_state=42)"
   ]
  },
  {
   "cell_type": "code",
   "execution_count": 43,
   "id": "e417a912",
   "metadata": {},
   "outputs": [
    {
     "data": {
      "text/plain": [
       "array([0.96915167, 0.96143959, 0.96401028, 0.96915167, 0.9562982 ,\n",
       "       0.97680412, 0.95876289, 0.93814433, 0.96391753, 0.95876289])"
      ]
     },
     "execution_count": 43,
     "metadata": {},
     "output_type": "execute_result"
    }
   ],
   "source": [
    "Multinomia = MultinomialNB()\n",
    "Multinomia.fit(X_train, y_train)\n",
    "Multinomia_score = cross_val_score(Multinomia, X_train,y_train,scoring=\"accuracy\", cv=10)\n",
    "Multinomia_score"
   ]
  },
  {
   "cell_type": "code",
   "execution_count": 44,
   "id": "84afc057",
   "metadata": {},
   "outputs": [
    {
     "data": {
      "text/plain": [
       "0.9616443166459068"
      ]
     },
     "execution_count": 44,
     "metadata": {},
     "output_type": "execute_result"
    }
   ],
   "source": [
    "Multinomia_score.mean()"
   ]
  },
  {
   "cell_type": "code",
   "execution_count": 46,
   "id": "261487b6",
   "metadata": {},
   "outputs": [
    {
     "data": {
      "text/plain": [
       "1.0"
      ]
     },
     "execution_count": 46,
     "metadata": {},
     "output_type": "execute_result"
    }
   ],
   "source": [
    "Multinomia_pred_train = Multinomia.predict(X_train)\n",
    "Multinomia_pred_test = Multinomia.predict(X_test)\n",
    "Multinomia_pred = metrics.precision_score(y_test, Multinomia_pred_test)\n",
    "Multinomia_pred"
   ]
  },
  {
   "cell_type": "code",
   "execution_count": 49,
   "id": "a2b629ef",
   "metadata": {},
   "outputs": [
    {
     "data": {
      "text/plain": [
       "0.7296137339055794"
      ]
     },
     "execution_count": 49,
     "metadata": {},
     "output_type": "execute_result"
    }
   ],
   "source": [
    "Multinomia_recal = metrics.recall_score(y_test, Multinomia_pred_test)\n",
    "Multinomia_recal"
   ]
  },
  {
   "cell_type": "code",
   "execution_count": 48,
   "id": "83978940",
   "metadata": {},
   "outputs": [
    {
     "data": {
      "text/plain": [
       "0.8436724565756824"
      ]
     },
     "execution_count": 48,
     "metadata": {},
     "output_type": "execute_result"
    }
   ],
   "source": [
    "Multinomia_f1_s = metrics.f1_score(y_test, Multinomia_pred_test)\n",
    "Multinomia_f1_s"
   ]
  },
  {
   "cell_type": "code",
   "execution_count": 52,
   "id": "05c04be1",
   "metadata": {},
   "outputs": [
    {
     "data": {
      "text/plain": [
       "0.9745173745173745"
      ]
     },
     "execution_count": 52,
     "metadata": {},
     "output_type": "execute_result"
    }
   ],
   "source": [
    "Multinomia_train_accuracy = Multinomia.score(X_train,y_train)\n",
    "Multinomia_train_accuracy"
   ]
  },
  {
   "cell_type": "code",
   "execution_count": 51,
   "id": "f4231cdb",
   "metadata": {},
   "outputs": [
    {
     "data": {
      "text/plain": [
       "0.9621621621621622"
      ]
     },
     "execution_count": 51,
     "metadata": {},
     "output_type": "execute_result"
    }
   ],
   "source": [
    "Multinomia_test_accuracy = Multinomia.score(X_test,y_test)\n",
    "Multinomia_test_accuracy"
   ]
  }
 ],
 "metadata": {
  "kernelspec": {
   "display_name": "Python 3 (ipykernel)",
   "language": "python",
   "name": "python3"
  },
  "language_info": {
   "codemirror_mode": {
    "name": "ipython",
    "version": 3
   },
   "file_extension": ".py",
   "mimetype": "text/x-python",
   "name": "python",
   "nbconvert_exporter": "python",
   "pygments_lexer": "ipython3",
   "version": "3.9.12"
  }
 },
 "nbformat": 4,
 "nbformat_minor": 5
}
