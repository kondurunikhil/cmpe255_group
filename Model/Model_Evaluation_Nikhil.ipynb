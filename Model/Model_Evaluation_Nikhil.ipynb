{
 "cells": [
  {
   "cell_type": "markdown",
   "id": "aEISMPSXNX1I",
   "metadata": {
    "id": "aEISMPSXNX1I"
   },
   "source": [
    "# EVALUATING MODELS"
   ]
  },
  {
   "cell_type": "code",
   "execution_count": null,
   "id": "HEIXYOETNXEZ",
   "metadata": {
    "id": "HEIXYOETNXEZ"
   },
   "outputs": [],
   "source": [
    "data = {'Precision':precision,\n",
    "'Recall':recall,\n",
    "'F1score':f1_score,\n",
    "'Accuracy on Testset':testset_accuracy,\n",
    "'Accuracy on Trainset':trainset_accuracy}\n",
    "Results = pd.DataFrame(data, index =[\"NaiveBayes\", \"KNeighbours\",\"SVC\",\"RFC\"])"
   ]
  },
  {
   "cell_type": "code",
   "execution_count": null,
   "id": "_kHLCPMkO-ZA",
   "metadata": {
    "colab": {
     "base_uri": "https://localhost:8080/",
     "height": 175
    },
    "id": "_kHLCPMkO-ZA",
    "outputId": "a82c3925-104b-44bb-8405-7cd2f3c4b8bd"
   },
   "outputs": [
    {
     "data": {
      "text/html": [
       "<style type=\"text/css\">\n",
       "#T_d0a02_row0_col0, #T_d0a02_row0_col1, #T_d0a02_row0_col2, #T_d0a02_row0_col3, #T_d0a02_row0_col4, #T_d0a02_row1_col0, #T_d0a02_row2_col1, #T_d0a02_row2_col2, #T_d0a02_row2_col3, #T_d0a02_row2_col4, #T_d0a02_row3_col0, #T_d0a02_row3_col1, #T_d0a02_row3_col2, #T_d0a02_row3_col3, #T_d0a02_row3_col4 {\n",
       "  background-color: #ffc0cb;\n",
       "  color: #000000;\n",
       "}\n",
       "#T_d0a02_row1_col1, #T_d0a02_row1_col2, #T_d0a02_row1_col3, #T_d0a02_row1_col4, #T_d0a02_row2_col0 {\n",
       "  background-color: #00ffff;\n",
       "  color: #000000;\n",
       "}\n",
       "</style>\n",
       "<table id=\"T_d0a02_\" class=\"dataframe\">\n",
       "  <thead>\n",
       "    <tr>\n",
       "      <th class=\"blank level0\" >&nbsp;</th>\n",
       "      <th class=\"col_heading level0 col0\" >Precision</th>\n",
       "      <th class=\"col_heading level0 col1\" >Recall</th>\n",
       "      <th class=\"col_heading level0 col2\" >F1score</th>\n",
       "      <th class=\"col_heading level0 col3\" >Accuracy on Testset</th>\n",
       "      <th class=\"col_heading level0 col4\" >Accuracy on Trainset</th>\n",
       "    </tr>\n",
       "  </thead>\n",
       "  <tbody>\n",
       "    <tr>\n",
       "      <th id=\"T_d0a02_level0_row0\" class=\"row_heading level0 row0\" >NaiveBayes</th>\n",
       "      <td id=\"T_d0a02_row0_col0\" class=\"data row0 col0\" >1.000000</td>\n",
       "      <td id=\"T_d0a02_row0_col1\" class=\"data row0 col1\" >0.729614</td>\n",
       "      <td id=\"T_d0a02_row0_col2\" class=\"data row0 col2\" >0.843672</td>\n",
       "      <td id=\"T_d0a02_row0_col3\" class=\"data row0 col3\" >0.962162</td>\n",
       "      <td id=\"T_d0a02_row0_col4\" class=\"data row0 col4\" >0.974517</td>\n",
       "    </tr>\n",
       "    <tr>\n",
       "      <th id=\"T_d0a02_level0_row1\" class=\"row_heading level0 row1\" >KNeighbours</th>\n",
       "      <td id=\"T_d0a02_row1_col0\" class=\"data row1 col0\" >1.000000</td>\n",
       "      <td id=\"T_d0a02_row1_col1\" class=\"data row1 col1\" >0.321888</td>\n",
       "      <td id=\"T_d0a02_row1_col2\" class=\"data row1 col2\" >0.487013</td>\n",
       "      <td id=\"T_d0a02_row1_col3\" class=\"data row1 col3\" >0.905105</td>\n",
       "      <td id=\"T_d0a02_row1_col4\" class=\"data row1 col4\" >0.923037</td>\n",
       "    </tr>\n",
       "    <tr>\n",
       "      <th id=\"T_d0a02_level0_row2\" class=\"row_heading level0 row2\" >SVC</th>\n",
       "      <td id=\"T_d0a02_row2_col0\" class=\"data row2 col0\" >0.994764</td>\n",
       "      <td id=\"T_d0a02_row2_col1\" class=\"data row2 col1\" >0.815451</td>\n",
       "      <td id=\"T_d0a02_row2_col2\" class=\"data row2 col2\" >0.896226</td>\n",
       "      <td id=\"T_d0a02_row2_col3\" class=\"data row2 col3\" >0.973574</td>\n",
       "      <td id=\"T_d0a02_row2_col4\" class=\"data row2 col4\" >0.997941</td>\n",
       "    </tr>\n",
       "    <tr>\n",
       "      <th id=\"T_d0a02_level0_row3\" class=\"row_heading level0 row3\" >RFC</th>\n",
       "      <td id=\"T_d0a02_row3_col0\" class=\"data row3 col0\" >1.000000</td>\n",
       "      <td id=\"T_d0a02_row3_col1\" class=\"data row3 col1\" >0.854077</td>\n",
       "      <td id=\"T_d0a02_row3_col2\" class=\"data row3 col2\" >0.921296</td>\n",
       "      <td id=\"T_d0a02_row3_col3\" class=\"data row3 col3\" >0.979580</td>\n",
       "      <td id=\"T_d0a02_row3_col4\" class=\"data row3 col4\" >1.000000</td>\n",
       "    </tr>\n",
       "  </tbody>\n",
       "</table>\n"
      ],
      "text/plain": [
       "<pandas.io.formats.style.Styler at 0x7f3d4056da90>"
      ]
     },
     "execution_count": 72,
     "metadata": {},
     "output_type": "execute_result"
    }
   ],
   "source": [
    "Results.style.background_gradient(cmap=cmap2)"
   ]
  }
 ],
 "metadata": {
  "colab": {
   "collapsed_sections": [],
   "name": "Updated_Model_Evaluation_Hashmitha_Katta.ipynb",
   "provenance": []
  },
  "kernelspec": {
   "display_name": "Python 3 (ipykernel)",
   "language": "python",
   "name": "python3"
  },
  "language_info": {
   "codemirror_mode": {
    "name": "ipython",
    "version": 3
   },
   "file_extension": ".py",
   "mimetype": "text/x-python",
   "name": "python",
   "nbconvert_exporter": "python",
   "pygments_lexer": "ipython3",
   "version": "3.9.12"
  }
 },
 "nbformat": 4,
 "nbformat_minor": 5
}
