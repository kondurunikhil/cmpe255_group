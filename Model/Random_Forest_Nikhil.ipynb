{
 "cells": [
  {
   "cell_type": "markdown",
   "id": "-0RnCfiTARg9",
   "metadata": {
    "id": "-0RnCfiTARg9"
   },
   "source": [
    "**Random Forest**"
   ]
  },
  {
   "cell_type": "code",
   "execution_count": 58,
   "id": "Uzmy8Wv-AWuT",
   "metadata": {
    "colab": {
     "base_uri": "https://localhost:8080/"
    },
    "id": "Uzmy8Wv-AWuT",
    "outputId": "c3c2f05c-c114-4c74-e97f-e4f9adb49ab9"
   },
   "outputs": [
    {
     "data": {
      "text/plain": [
       "array([0.96653797, 0.97683398, 0.97683398, 0.96782497, 0.97554698])"
      ]
     },
     "execution_count": 58,
     "metadata": {},
     "output_type": "execute_result"
    }
   ],
   "source": [
    "RFC=RandomForestClassifier()\n",
    "RFC.fit(X_train, y_train)\n",
    "RFC_score = cross_val_score(RFC, X_train,y_train,scoring=\"accuracy\", cv=5)\n",
    "RFC_score"
   ]
  },
  {
   "cell_type": "code",
   "execution_count": 59,
   "id": "nF1AQnmDArp8",
   "metadata": {
    "colab": {
     "base_uri": "https://localhost:8080/"
    },
    "id": "nF1AQnmDArp8",
    "outputId": "8a8a405c-6ee4-44eb-99cb-f922f601f5b4"
   },
   "outputs": [
    {
     "data": {
      "text/plain": [
       "0.9727155727155727"
      ]
     },
     "execution_count": 59,
     "metadata": {},
     "output_type": "execute_result"
    }
   ],
   "source": [
    "RFC_score.mean()"
   ]
  },
  {
   "cell_type": "code",
   "execution_count": 60,
   "id": "Bv_bHj9KAxxE",
   "metadata": {
    "colab": {
     "base_uri": "https://localhost:8080/"
    },
    "id": "Bv_bHj9KAxxE",
    "outputId": "31541ea0-a5d0-4787-e1d6-3ea7e58d3b2c"
   },
   "outputs": [
    {
     "data": {
      "text/plain": [
       "1.0"
      ]
     },
     "execution_count": 60,
     "metadata": {},
     "output_type": "execute_result"
    }
   ],
   "source": [
    "RFC_pred_train = RFC.predict(X_train)\n",
    "RFC_pred_test = RFC.predict(X_test)\n",
    "RFC_pred = metrics.precision_score(y_test, RFC_pred_test)\n",
    "RFC_pred"
   ]
  },
  {
   "cell_type": "code",
   "execution_count": 61,
   "id": "3N8r8ppLAxzq",
   "metadata": {
    "colab": {
     "base_uri": "https://localhost:8080/"
    },
    "id": "3N8r8ppLAxzq",
    "outputId": "3875bf1a-9228-4282-e06e-0e4587e630dd"
   },
   "outputs": [
    {
     "data": {
      "text/plain": [
       "0.8540772532188842"
      ]
     },
     "execution_count": 61,
     "metadata": {},
     "output_type": "execute_result"
    }
   ],
   "source": [
    "RFC_recal = metrics.recall_score(y_test, RFC_pred_test)\n",
    "RFC_recal"
   ]
  },
  {
   "cell_type": "code",
   "execution_count": 62,
   "id": "cdkkRU2ZAx2V",
   "metadata": {
    "colab": {
     "base_uri": "https://localhost:8080/"
    },
    "id": "cdkkRU2ZAx2V",
    "outputId": "dc304388-8f62-4f48-86d0-dabff3634e96"
   },
   "outputs": [
    {
     "data": {
      "text/plain": [
       "0.9212962962962963"
      ]
     },
     "execution_count": 62,
     "metadata": {},
     "output_type": "execute_result"
    }
   ],
   "source": [
    "RFC_f1_s = metrics.f1_score(y_test, RFC_pred_test)\n",
    "RFC_f1_s"
   ]
  },
  {
   "cell_type": "code",
   "execution_count": 63,
   "id": "E7Vz78bhAx4n",
   "metadata": {
    "colab": {
     "base_uri": "https://localhost:8080/"
    },
    "id": "E7Vz78bhAx4n",
    "outputId": "6a102e5a-750a-48ef-929d-550bb5cc2920"
   },
   "outputs": [
    {
     "data": {
      "text/plain": [
       "1.0"
      ]
     },
     "execution_count": 63,
     "metadata": {},
     "output_type": "execute_result"
    }
   ],
   "source": [
    "RFC_train_accuracy = RFC.score(X_train,y_train)\n",
    "RFC_train_accuracy"
   ]
  },
  {
   "cell_type": "code",
   "execution_count": 64,
   "id": "0XCzESxqBPd8",
   "metadata": {
    "colab": {
     "base_uri": "https://localhost:8080/"
    },
    "id": "0XCzESxqBPd8",
    "outputId": "32fbf45d-8c7b-4302-e271-326f37850a26"
   },
   "outputs": [
    {
     "data": {
      "text/plain": [
       "0.9795795795795795"
      ]
     },
     "execution_count": 64,
     "metadata": {},
     "output_type": "execute_result"
    }
   ],
   "source": [
    "RFC_test_accuracy = RFC.score(X_test,y_test)\n",
    "RFC_test_accuracy"
   ]
  },
  {
   "cell_type": "code",
   "execution_count": 65,
   "id": "VB1pyWRaBPhB",
   "metadata": {
    "id": "VB1pyWRaBPhB"
   },
   "outputs": [],
   "source": [
    "precision.append(RFC_pred)\n",
    "recall.append(RFC_recal)\n",
    "f1_score.append(RFC_f1_s)\n",
    "trainset_accuracy.append(RFC_train_accuracy)\n",
    "testset_accuracy.append(RFC_test_accuracy)"
   ]
  }
 ],
 "metadata": {
  "colab": {
   "collapsed_sections": [],
   "name": "RFC_Hashmitha_Katta.ipynb",
   "provenance": []
  },
  "kernelspec": {
   "display_name": "Python 3 (ipykernel)",
   "language": "python",
   "name": "python3"
  },
  "language_info": {
   "codemirror_mode": {
    "name": "ipython",
    "version": 3
   },
   "file_extension": ".py",
   "mimetype": "text/x-python",
   "name": "python",
   "nbconvert_exporter": "python",
   "pygments_lexer": "ipython3",
   "version": "3.9.7"
  }
 },
 "nbformat": 4,
 "nbformat_minor": 5
}
