{
 "cells": [
  {
   "cell_type": "code",
   "execution_count": 34,
   "id": "287c8390",
   "metadata": {},
   "outputs": [
    {
     "data": {
      "text/plain": [
       "array([0.89974293, 0.90488432, 0.91002571, 0.9125964 , 0.89974293,\n",
       "       0.90979381, 0.90463918, 0.89690722, 0.92010309, 0.92525773])"
      ]
     },
     "execution_count": 34,
     "metadata": {},
     "output_type": "execute_result"
    }
   ],
   "source": [
    "KNC = KNeighborsClassifier()\n",
    "KNC.fit(X_train, y_train)\n",
    "KNC_score = cross_val_score(KNC, X_train,y_train,scoring=\"accuracy\", cv=10)\n",
    "KNC_score"
   ]
  },
  {
   "cell_type": "code",
   "execution_count": 38,
   "id": "e205d5b5",
   "metadata": {},
   "outputs": [
    {
     "data": {
      "text/plain": [
       "0.9083693318845573"
      ]
     },
     "execution_count": 38,
     "metadata": {},
     "output_type": "execute_result"
    }
   ],
   "source": [
    "KNC_score.mean()"
   ]
  },
  {
   "cell_type": "code",
   "execution_count": 53,
   "id": "8e2a5d81",
   "metadata": {},
   "outputs": [
    {
     "data": {
      "text/plain": [
       "1.0"
      ]
     },
     "execution_count": 53,
     "metadata": {},
     "output_type": "execute_result"
    }
   ],
   "source": [
    "KNC_pred_train = KNC.predict(X_train)\n",
    "KNC_pred_test = KNC.predict(X_test)\n",
    "KNC_pred = metrics.precision_score(y_test, KNC_pred_test)\n",
    "KNC_pred"
   ]
  },
  {
   "cell_type": "code",
   "execution_count": 54,
   "id": "c5525e09",
   "metadata": {},
   "outputs": [
    {
     "data": {
      "text/plain": [
       "0.3218884120171674"
      ]
     },
     "execution_count": 54,
     "metadata": {},
     "output_type": "execute_result"
    }
   ],
   "source": [
    "KNC_recal = metrics.recall_score(y_test, KNC_pred_test)\n",
    "KNC_recal"
   ]
  },
  {
   "cell_type": "code",
   "execution_count": 55,
   "id": "0f0e1862",
   "metadata": {},
   "outputs": [
    {
     "data": {
      "text/plain": [
       "0.487012987012987"
      ]
     },
     "execution_count": 55,
     "metadata": {},
     "output_type": "execute_result"
    }
   ],
   "source": [
    "KNC_f1_s = metrics.f1_score(y_test, KNC_pred_test)\n",
    "KNC_f1_s"
   ]
  },
  {
   "cell_type": "code",
   "execution_count": 56,
   "id": "e18fb4cf",
   "metadata": {},
   "outputs": [
    {
     "data": {
      "text/plain": [
       "0.923037323037323"
      ]
     },
     "execution_count": 56,
     "metadata": {},
     "output_type": "execute_result"
    }
   ],
   "source": [
    "KNC_train_accuracy = KNC.score(X_train,y_train)\n",
    "KNC_train_accuracy"
   ]
  },
  {
   "cell_type": "code",
   "execution_count": 57,
   "id": "2c85fda2",
   "metadata": {},
   "outputs": [
    {
     "data": {
      "text/plain": [
       "0.9051051051051051"
      ]
     },
     "execution_count": 57,
     "metadata": {},
     "output_type": "execute_result"
    }
   ],
   "source": [
    "KNC_test_accuracy = KNC.score(X_test,y_test)\n",
    "KNC_test_accuracy"
   ]
  }
 ],
 "metadata": {
  "kernelspec": {
   "display_name": "Python 3 (ipykernel)",
   "language": "python",
   "name": "python3"
  },
  "language_info": {
   "codemirror_mode": {
    "name": "ipython",
    "version": 3
   },
   "file_extension": ".py",
   "mimetype": "text/x-python",
   "name": "python",
   "nbconvert_exporter": "python",
   "pygments_lexer": "ipython3",
   "version": "3.9.12"
  }
 },
 "nbformat": 4,
 "nbformat_minor": 5
}
